{
 "cells": [
  {
   "cell_type": "code",
   "execution_count": 1,
   "metadata": {},
   "outputs": [
    {
     "name": "stdout",
     "output_type": "stream",
     "text": [
      "Found 15750 images belonging to 9 classes.\n",
      "Found 2250 images belonging to 9 classes.\n"
     ]
    },
    {
     "name": "stderr",
     "output_type": "stream",
     "text": [
      "C:\\Users\\91917\\AppData\\Local\\Temp\\ipykernel_12448\\4255037072.py:43: UserWarning: `Model.fit_generator` is deprecated and will be removed in a future version. Please use `Model.fit`, which supports generators.\n",
      "  model.fit_generator(x_train, steps_per_epoch=24, epochs=10, validation_data=x_test, validation_steps=40)\n"
     ]
    },
    {
     "name": "stdout",
     "output_type": "stream",
     "text": [
      "Epoch 1/10\n",
      "24/24 [==============================] - ETA: 0s - loss: 1.0743 - accuracy: 0.6321WARNING:tensorflow:Your input ran out of data; interrupting training. Make sure that your dataset or generator can generate at least `steps_per_epoch * epochs` batches (in this case, 40 batches). You may need to use the repeat() function when building your dataset.\n",
      "24/24 [==============================] - 47s 2s/step - loss: 1.0743 - accuracy: 0.6321 - val_loss: 0.3973 - val_accuracy: 0.9093\n",
      "Epoch 2/10\n",
      "24/24 [==============================] - 42s 2s/step - loss: 0.2540 - accuracy: 0.9150\n",
      "Epoch 3/10\n",
      "24/24 [==============================] - 47s 2s/step - loss: 0.0972 - accuracy: 0.9700\n",
      "Epoch 4/10\n",
      "24/24 [==============================] - 50s 2s/step - loss: 0.0615 - accuracy: 0.9818\n",
      "Epoch 5/10\n",
      "14/24 [================>.............] - ETA: 14s - loss: 0.0579 - accuracy: 0.9795"
     ]
    }
   ],
   "source": [
    "\n",
    "from keras.models import Sequential\n",
    "from keras.layers import Dense\n",
    "from keras.layers import Convolution2D\n",
    "from keras.layers import MaxPooling2D\n",
    "from keras.layers import Dropout\n",
    "from keras.layers import Flatten\n",
    "from keras.preprocessing.image import ImageDataGenerator\n",
    "train_datagen = ImageDataGenerator(rescale = 1./255, shear_range=0.2, zoom_range=0.2, horizontal_flip=True)\n",
    "test_datagen = ImageDataGenerator(rescale = 1./255)\n",
    "x_train = train_datagen.flow_from_directory(\"C:\\\\Users\\\\91917\\\\Desktop\\\\AI Proj\\\\Dataset\\\\training_set\", target_size=(64,64), batch_size=300, class_mode='categorical',  color_mode = \"grayscale\")\n",
    "x_train.class_indices\n",
    "\n",
    "x_test = test_datagen.flow_from_directory(\"C:\\\\Users\\\\91917\\\\Desktop\\\\AI Proj\\\\Dataset\\\\test_set\", target_size=(64,64), batch_size=300, class_mode='categorical',  color_mode = \"grayscale\")\n",
    "\n",
    "x_test.class_indices\n",
    "\n",
    "model = Sequential()\n",
    "\n",
    "\n",
    "model.add(Convolution2D(32, (3,3), input_shape=(64,64,1), activation = 'relu'))\n",
    "#no. of feature detectors, size of featuredetector, image size, activation function\n",
    "\n",
    "model.add(MaxPooling2D(pool_size=(2,2)))\n",
    "\n",
    "\n",
    "model.add(Dropout(0.25))\n",
    "\n",
    "\n",
    "model.add(Convolution2D(64, (3,3), input_shape=(64,64,1), activation = 'relu'))\n",
    "#no. of feature detectors, size of featuredetector, image size, activation function\n",
    "model.add(MaxPooling2D(pool_size=(2,2)))\n",
    "model.add(Dropout(0.25))\n",
    "model.add(Convolution2D(128, (3,3), input_shape=(64,64,1), activation = 'relu'))\n",
    "#no. of feature detectors, size of featuredetector, image size, activation function\n",
    "model.add(MaxPooling2D(pool_size=(2,2)))\n",
    "model.add(Dropout(0.25))\n",
    "model.add(Flatten())\n",
    "model.add(Dense(units=512, activation='relu'))\n",
    "model.add(Dense(units=9, activation='softmax'))\n",
    "model.compile(loss='categorical_crossentropy', optimizer='adam', metrics=['accuracy'])\n",
    "\n",
    "\n",
    "model.fit_generator(x_train, steps_per_epoch=24, epochs=10, validation_data=x_test, validation_steps=40)\n",
    "\n",
    "#steps_per_epoch = no. of train images//batch size\n",
    "\n",
    "model.save('gesture.h5')\n",
    " "
   ]
  }
 ],
 "metadata": {
  "kernelspec": {
   "display_name": "Python 3",
   "language": "python",
   "name": "python3"
  },
  "language_info": {
   "codemirror_mode": {
    "name": "ipython",
    "version": 3
   },
   "file_extension": ".py",
   "mimetype": "text/x-python",
   "name": "python",
   "nbconvert_exporter": "python",
   "pygments_lexer": "ipython3",
   "version": "3.10.4"
  },
  "orig_nbformat": 4,
  "vscode": {
   "interpreter": {
    "hash": "d3e10ef16274dd72e574b8fa73b58450b957d8421a2901baded3cca26fcf5dda"
   }
  }
 },
 "nbformat": 4,
 "nbformat_minor": 2
}

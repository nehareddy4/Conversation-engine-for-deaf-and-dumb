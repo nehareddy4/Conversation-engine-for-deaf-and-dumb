{
 "cells": [
  {
   "cell_type": "code",
   "execution_count": 3,
   "metadata": {},
   "outputs": [
    {
     "name": "stdout",
     "output_type": "stream",
     "text": [
      "1/1 [==============================] - 0s 162ms/step\n",
      "[[9.9999619e-01 4.2669823e-11 2.8129446e-10 1.5233610e-12 2.9374958e-06\n",
      "  6.4026527e-11 5.7258916e-07 8.9490936e-13 2.0235152e-07]]\n",
      "1/1 [==============================] - 0s 58ms/step\n",
      "[[6.57507693e-09 9.99995828e-01 3.42382407e-08 5.79429038e-09\n",
      "  3.95728193e-06 7.06195724e-09 8.41018401e-12 1.78183813e-12\n",
      "  1.04670846e-07]]\n"
     ]
    }
   ],
   "source": [
    "from keras.models import load_model\n",
    "import numpy as np\n",
    "import cv2\n",
    "model=load_model('gesture.h5')\n",
    "from skimage.transform import resize\n",
    "def detect(frame):\n",
    "        img=resize(frame,(64,64,1))\n",
    "        img = np.expand_dims(img,axis=0)\n",
    "        if(np.max(img)>1):\n",
    "            img = img/255.0\n",
    "        prediction = model.predict(img)\n",
    "        print(prediction)\n",
    "        # prediction = model.predict_classes(img)\n",
    "        # print(prediction)\n",
    "frame=cv2.imread(\"C:\\\\Users\\\\91917\\\\Desktop\\\\AI Proj\\\\Dataset\\\\test_set\\\\A\\\\1.png\")\n",
    "data=detect(frame)\n",
    "frame=cv2.imread(\"C:\\\\Users\\\\91917\\\\Desktop\\\\AI Proj\\\\Dataset\\\\test_set\\\\B\\\\2.png\")\n",
    "data=detect(frame)"
   ]
  }
 ],
 "metadata": {
  "kernelspec": {
   "display_name": "Python 3",
   "language": "python",
   "name": "python3"
  },
  "language_info": {
   "codemirror_mode": {
    "name": "ipython",
    "version": 3
   },
   "file_extension": ".py",
   "mimetype": "text/x-python",
   "name": "python",
   "nbconvert_exporter": "python",
   "pygments_lexer": "ipython3",
   "version": "3.10.4 (tags/v3.10.4:9d38120, Mar 23 2022, 23:13:41) [MSC v.1929 64 bit (AMD64)]"
  },
  "orig_nbformat": 4,
  "vscode": {
   "interpreter": {
    "hash": "d3e10ef16274dd72e574b8fa73b58450b957d8421a2901baded3cca26fcf5dda"
   }
  }
 },
 "nbformat": 4,
 "nbformat_minor": 2
}
